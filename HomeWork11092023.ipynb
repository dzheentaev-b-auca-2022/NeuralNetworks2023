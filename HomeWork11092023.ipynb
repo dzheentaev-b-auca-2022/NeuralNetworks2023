{
 "cells": [
  {
   "cell_type": "code",
   "execution_count": 4,
   "id": "initial_id",
   "metadata": {
    "is_executing": true
   },
   "outputs": [],
   "source": [
    "import torch\n",
    "\n",
    "w =  torch.tensor(\n",
    "    [[5.,10.],\n",
    "     [1.,2.]], requires_grad=True )\n",
    "\n",
    "\n",
    "function =  (w+7).log().log().sum()\n",
    "\n",
    "\n",
    "function.backward()"
   ]
  },
  {
   "cell_type": "code",
   "execution_count": 7,
   "id": "b22c4323cdeb7799",
   "metadata": {
    "collapsed": false,
    "is_executing": true
   },
   "outputs": [
    {
     "ename": "NameError",
     "evalue": "name 'show_contours' is not defined",
     "output_type": "error",
     "traceback": [
      "\u001B[1;31m---------------------------------------------------------------------------\u001B[0m",
      "\u001B[1;31mNameError\u001B[0m                                 Traceback (most recent call last)",
      "Cell \u001B[1;32mIn[7], line 23\u001B[0m\n\u001B[0;32m     20\u001B[0m \u001B[38;5;28;01mdef\u001B[39;00m \u001B[38;5;21mfunction_log_np\u001B[39m (variable) :\n\u001B[0;32m     21\u001B[0m     \u001B[38;5;28;01mreturn\u001B[39;00m np\u001B[38;5;241m.\u001B[39memath\u001B[38;5;241m.\u001B[39mlog(np\u001B[38;5;241m.\u001B[39memath\u001B[38;5;241m.\u001B[39mlog(variable\u001B[38;5;241m+\u001B[39m\u001B[38;5;241m7\u001B[39m))\u001B[38;5;241m.\u001B[39msum()\n\u001B[1;32m---> 23\u001B[0m \u001B[43mshow_contours\u001B[49m(function_log_np)\n\u001B[0;32m     24\u001B[0m plt\u001B[38;5;241m.\u001B[39mscatter(np\u001B[38;5;241m.\u001B[39marray(var_history)[:,\u001B[38;5;241m0\u001B[39m], np\u001B[38;5;241m.\u001B[39marray(var_history)[:,\u001B[38;5;241m1\u001B[39m], s\u001B[38;5;241m=\u001B[39m\u001B[38;5;241m10\u001B[39m, c\u001B[38;5;241m=\u001B[39m\u001B[38;5;124m'\u001B[39m\u001B[38;5;124mr\u001B[39m\u001B[38;5;124m'\u001B[39m)\n\u001B[0;32m     26\u001B[0m plt\u001B[38;5;241m.\u001B[39mfigure(figsize\u001B[38;5;241m=\u001B[39m(\u001B[38;5;241m7\u001B[39m,\u001B[38;5;241m7\u001B[39m))\n",
      "\u001B[1;31mNameError\u001B[0m: name 'show_contours' is not defined"
     ]
    }
   ],
   "source": [
    "import torch\n",
    "import matplotlib.pyplot as plt\n",
    "\n",
    "w = torch.tensor([[5., 10.], [1., 2.]], requires_grad=True)\n",
    "alpha = 0.001\n",
    "\n",
    "for _ in range(500):\n",
    "    function = (w+7).log().log().sum()\n",
    "    function.backward()\n",
    "    w.data -=  alpha * w.grad\n",
    "    w.grad.zero_()\n",
    "\n"
   ]
  },
  {
   "cell_type": "code",
   "execution_count": 8,
   "id": "5745edb90f627b36",
   "metadata": {
    "collapsed": false
   },
   "outputs": [
    {
     "ename": "NameError",
     "evalue": "name 'show_contours' is not defined",
     "output_type": "error",
     "traceback": [
      "\u001B[1;31m---------------------------------------------------------------------------\u001B[0m",
      "\u001B[1;31mNameError\u001B[0m                                 Traceback (most recent call last)",
      "Cell \u001B[1;32mIn[8], line 24\u001B[0m\n\u001B[0;32m     21\u001B[0m     optimizer\u001B[38;5;241m.\u001B[39mstep()\n\u001B[0;32m     22\u001B[0m     optimizer\u001B[38;5;241m.\u001B[39mzero_grad()\n\u001B[1;32m---> 24\u001B[0m \u001B[43mshow_contours\u001B[49m(function_log_np)\n\u001B[0;32m     26\u001B[0m plt\u001B[38;5;241m.\u001B[39mscatter(np\u001B[38;5;241m.\u001B[39marray(var_history)[:,\u001B[38;5;241m0\u001B[39m], np\u001B[38;5;241m.\u001B[39marray(var_history)[:,\u001B[38;5;241m1\u001B[39m], s\u001B[38;5;241m=\u001B[39m\u001B[38;5;241m10\u001B[39m, c\u001B[38;5;241m=\u001B[39m\u001B[38;5;124m'\u001B[39m\u001B[38;5;124mr\u001B[39m\u001B[38;5;124m'\u001B[39m)\n\u001B[0;32m     28\u001B[0m plt\u001B[38;5;241m.\u001B[39mfigure(figsize\u001B[38;5;241m=\u001B[39m(\u001B[38;5;241m7\u001B[39m,\u001B[38;5;241m7\u001B[39m))\n",
      "\u001B[1;31mNameError\u001B[0m: name 'show_contours' is not defined"
     ]
    }
   ],
   "source": [
    "import torch\n",
    "import matplotlib.pyplot as plt\n",
    "\n",
    "\n",
    "w = torch.tensor([[5., 10.], [1., 2.]], requires_grad=True)\n",
    "alpha = 0.001\n",
    "optimizer =  torch.optim.SGD([w], lr = alpha)\n",
    "\n",
    "def function_log (variable) :\n",
    "    return (variable + 7).log().log().prod()\n",
    "\n",
    "for _ in range(500):\n",
    "    function = function_log(w)\n",
    "    function.backward()\n",
    "    optimizer.step()\n",
    "    optimizer.zero_grad()\n"
   ]
  },
  {
   "cell_type": "code",
   "execution_count": null,
   "id": "f02195bf-fb2e-47d6-b87d-84ba7fb801a6",
   "metadata": {},
   "outputs": [],
   "source": []
  }
 ],
 "metadata": {
  "kernelspec": {
   "display_name": "Python 3 (ipykernel)",
   "language": "python",
   "name": "python3"
  },
  "language_info": {
   "codemirror_mode": {
    "name": "ipython",
    "version": 3
   },
   "file_extension": ".py",
   "mimetype": "text/x-python",
   "name": "python",
   "nbconvert_exporter": "python",
   "pygments_lexer": "ipython3",
   "version": "3.10.11"
  }
 },
 "nbformat": 4,
 "nbformat_minor": 5
}
